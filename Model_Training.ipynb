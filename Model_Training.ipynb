{
 "cells": [
  {
   "cell_type": "code",
   "execution_count": 1,
   "id": "167eedda",
   "metadata": {},
   "outputs": [
    {
     "name": "stdout",
     "output_type": "stream",
     "text": [
      "Torch version: 2.5.1+cu121\n",
      "CUDA available: True\n",
      "Device: NVIDIA GeForce MX330\n"
     ]
    }
   ],
   "source": [
    "import torch\n",
    "\n",
    "print(\"Torch version:\", torch.__version__)\n",
    "print(\"CUDA available:\", torch.cuda.is_available())\n",
    "\n",
    "if torch.cuda.is_available():\n",
    "    print(\"Device:\", torch.cuda.get_device_name(0))\n",
    "else:\n",
    "    print(\"No GPU found.\")\n"
   ]
  },
  {
   "cell_type": "code",
   "execution_count": 2,
   "id": "8ad96122",
   "metadata": {},
   "outputs": [
    {
     "name": "stderr",
     "output_type": "stream",
     "text": [
      "d:\\Datascience\\Project\\Cybersecurity_classifier\\Microsoft_cybersecurity_classifier\\cybersecurity\\Lib\\site-packages\\tqdm\\auto.py:21: TqdmWarning: IProgress not found. Please update jupyter and ipywidgets. See https://ipywidgets.readthedocs.io/en/stable/user_install.html\n",
      "  from .autonotebook import tqdm as notebook_tqdm\n"
     ]
    }
   ],
   "source": [
    "#Step 1: Import Required Libraries\n",
    "import pandas as pd\n",
    "import numpy as np\n",
    "import matplotlib.pyplot as plt\n",
    "import seaborn as sns\n",
    "\n",
    "from sklearn.model_selection import train_test_split, StratifiedKFold, GridSearchCV\n",
    "from sklearn.linear_model import LogisticRegression\n",
    "from sklearn.tree import DecisionTreeClassifier\n",
    "from sklearn.ensemble import RandomForestClassifier,GradientBoostingClassifier\n",
    "from xgboost import XGBClassifier\n",
    "from lightgbm import LGBMClassifier\n",
    "from sklearn.metrics import classification_report, f1_score, precision_score, recall_score\n",
    "from sklearn.preprocessing import LabelEncoder, StandardScaler\n",
    "from imblearn.over_sampling import SMOTE\n",
    "import shap\n",
    "import joblib\n"
   ]
  },
  {
   "cell_type": "code",
   "execution_count": 3,
   "id": "d8fd019f",
   "metadata": {},
   "outputs": [
    {
     "data": {
      "text/html": [
       "<div>\n",
       "<style scoped>\n",
       "    .dataframe tbody tr th:only-of-type {\n",
       "        vertical-align: middle;\n",
       "    }\n",
       "\n",
       "    .dataframe tbody tr th {\n",
       "        vertical-align: top;\n",
       "    }\n",
       "\n",
       "    .dataframe thead th {\n",
       "        text-align: right;\n",
       "    }\n",
       "</style>\n",
       "<table border=\"1\" class=\"dataframe\">\n",
       "  <thead>\n",
       "    <tr style=\"text-align: right;\">\n",
       "      <th></th>\n",
       "      <th>Id</th>\n",
       "      <th>OrgId</th>\n",
       "      <th>IncidentId</th>\n",
       "      <th>AlertId</th>\n",
       "      <th>DetectorId</th>\n",
       "      <th>AlertTitle</th>\n",
       "      <th>Category</th>\n",
       "      <th>IncidentGrade</th>\n",
       "      <th>EntityType</th>\n",
       "      <th>EvidenceRole</th>\n",
       "      <th>...</th>\n",
       "      <th>ApplicationName</th>\n",
       "      <th>OAuthApplicationId</th>\n",
       "      <th>FileName</th>\n",
       "      <th>ResourceIdName</th>\n",
       "      <th>OSVersion</th>\n",
       "      <th>City</th>\n",
       "      <th>Day</th>\n",
       "      <th>Year</th>\n",
       "      <th>Hour</th>\n",
       "      <th>Time</th>\n",
       "    </tr>\n",
       "  </thead>\n",
       "  <tbody>\n",
       "    <tr>\n",
       "      <th>0</th>\n",
       "      <td>180388628218</td>\n",
       "      <td>0</td>\n",
       "      <td>612</td>\n",
       "      <td>123247</td>\n",
       "      <td>7</td>\n",
       "      <td>6</td>\n",
       "      <td>10</td>\n",
       "      <td>2</td>\n",
       "      <td>15</td>\n",
       "      <td>1</td>\n",
       "      <td>...</td>\n",
       "      <td>3421</td>\n",
       "      <td>881</td>\n",
       "      <td>289573</td>\n",
       "      <td>3586</td>\n",
       "      <td>66</td>\n",
       "      <td>3</td>\n",
       "      <td>4</td>\n",
       "      <td>2024</td>\n",
       "      <td>6</td>\n",
       "      <td>21915</td>\n",
       "    </tr>\n",
       "    <tr>\n",
       "      <th>1</th>\n",
       "      <td>455266534868</td>\n",
       "      <td>88</td>\n",
       "      <td>326</td>\n",
       "      <td>210035</td>\n",
       "      <td>58</td>\n",
       "      <td>43</td>\n",
       "      <td>7</td>\n",
       "      <td>1</td>\n",
       "      <td>32</td>\n",
       "      <td>0</td>\n",
       "      <td>...</td>\n",
       "      <td>3421</td>\n",
       "      <td>881</td>\n",
       "      <td>289573</td>\n",
       "      <td>3586</td>\n",
       "      <td>66</td>\n",
       "      <td>10630</td>\n",
       "      <td>14</td>\n",
       "      <td>2024</td>\n",
       "      <td>3</td>\n",
       "      <td>10885</td>\n",
       "    </tr>\n",
       "    <tr>\n",
       "      <th>2</th>\n",
       "      <td>1056561957389</td>\n",
       "      <td>809</td>\n",
       "      <td>58352</td>\n",
       "      <td>712507</td>\n",
       "      <td>423</td>\n",
       "      <td>298</td>\n",
       "      <td>10</td>\n",
       "      <td>1</td>\n",
       "      <td>31</td>\n",
       "      <td>1</td>\n",
       "      <td>...</td>\n",
       "      <td>3421</td>\n",
       "      <td>881</td>\n",
       "      <td>289573</td>\n",
       "      <td>3586</td>\n",
       "      <td>66</td>\n",
       "      <td>10630</td>\n",
       "      <td>13</td>\n",
       "      <td>2024</td>\n",
       "      <td>4</td>\n",
       "      <td>17575</td>\n",
       "    </tr>\n",
       "    <tr>\n",
       "      <th>3</th>\n",
       "      <td>1279900258736</td>\n",
       "      <td>92</td>\n",
       "      <td>32992</td>\n",
       "      <td>774301</td>\n",
       "      <td>2</td>\n",
       "      <td>2</td>\n",
       "      <td>1</td>\n",
       "      <td>0</td>\n",
       "      <td>31</td>\n",
       "      <td>1</td>\n",
       "      <td>...</td>\n",
       "      <td>3421</td>\n",
       "      <td>881</td>\n",
       "      <td>289573</td>\n",
       "      <td>3586</td>\n",
       "      <td>66</td>\n",
       "      <td>10630</td>\n",
       "      <td>10</td>\n",
       "      <td>2024</td>\n",
       "      <td>16</td>\n",
       "      <td>59976</td>\n",
       "    </tr>\n",
       "    <tr>\n",
       "      <th>4</th>\n",
       "      <td>214748368522</td>\n",
       "      <td>148</td>\n",
       "      <td>4359</td>\n",
       "      <td>188041</td>\n",
       "      <td>9</td>\n",
       "      <td>74</td>\n",
       "      <td>6</td>\n",
       "      <td>2</td>\n",
       "      <td>32</td>\n",
       "      <td>0</td>\n",
       "      <td>...</td>\n",
       "      <td>3421</td>\n",
       "      <td>881</td>\n",
       "      <td>289573</td>\n",
       "      <td>3586</td>\n",
       "      <td>66</td>\n",
       "      <td>10630</td>\n",
       "      <td>15</td>\n",
       "      <td>2024</td>\n",
       "      <td>1</td>\n",
       "      <td>4087</td>\n",
       "    </tr>\n",
       "  </tbody>\n",
       "</table>\n",
       "<p>5 rows × 27 columns</p>\n",
       "</div>"
      ],
      "text/plain": [
       "              Id  OrgId  IncidentId  AlertId  DetectorId  AlertTitle  \\\n",
       "0   180388628218      0         612   123247           7           6   \n",
       "1   455266534868     88         326   210035          58          43   \n",
       "2  1056561957389    809       58352   712507         423         298   \n",
       "3  1279900258736     92       32992   774301           2           2   \n",
       "4   214748368522    148        4359   188041           9          74   \n",
       "\n",
       "   Category  IncidentGrade  EntityType  EvidenceRole  ...  ApplicationName  \\\n",
       "0        10              2          15             1  ...             3421   \n",
       "1         7              1          32             0  ...             3421   \n",
       "2        10              1          31             1  ...             3421   \n",
       "3         1              0          31             1  ...             3421   \n",
       "4         6              2          32             0  ...             3421   \n",
       "\n",
       "   OAuthApplicationId  FileName  ResourceIdName  OSVersion   City  Day  Year  \\\n",
       "0                 881    289573            3586         66      3    4  2024   \n",
       "1                 881    289573            3586         66  10630   14  2024   \n",
       "2                 881    289573            3586         66  10630   13  2024   \n",
       "3                 881    289573            3586         66  10630   10  2024   \n",
       "4                 881    289573            3586         66  10630   15  2024   \n",
       "\n",
       "   Hour   Time  \n",
       "0     6  21915  \n",
       "1     3  10885  \n",
       "2     4  17575  \n",
       "3    16  59976  \n",
       "4     1   4087  \n",
       "\n",
       "[5 rows x 27 columns]"
      ]
     },
     "execution_count": 3,
     "metadata": {},
     "output_type": "execute_result"
    }
   ],
   "source": [
    "# Step 2: Load Processed Data\n",
    "path = \"traindata_processed.csv\"\n",
    "df=pd.read_csv(path,nrows=4500000)\n",
    "df.head()\n"
   ]
  },
  {
   "cell_type": "code",
   "execution_count": 4,
   "id": "8efed997",
   "metadata": {},
   "outputs": [
    {
     "data": {
      "text/plain": [
       "(4500000, 27)"
      ]
     },
     "execution_count": 4,
     "metadata": {},
     "output_type": "execute_result"
    }
   ],
   "source": [
    "df.shape"
   ]
  },
  {
   "cell_type": "code",
   "execution_count": 5,
   "id": "4483534e",
   "metadata": {},
   "outputs": [],
   "source": [
    "# Step 3: Split Features and Target\n",
    "X = df.drop(\"IncidentGrade\", axis=1)\n",
    "y = df[\"IncidentGrade\"]\n",
    "\n",
    "# Step 4: Train-Validation Split with Stratification\n",
    "X_train, X_val, y_train, y_val = train_test_split(\n",
    "    X, y, test_size=0.3, stratify=y, random_state=42\n",
    ")\n"
   ]
  },
  {
   "cell_type": "code",
   "execution_count": 6,
   "id": "0c6235f1",
   "metadata": {},
   "outputs": [
    {
     "name": "stdout",
     "output_type": "stream",
     "text": [
      "Training set class distribution:\n",
      " IncidentGrade\n",
      "0    0.431238\n",
      "2    0.351527\n",
      "1    0.217235\n",
      "Name: proportion, dtype: float64\n",
      "Validation set class distribution:\n",
      " IncidentGrade\n",
      "0    0.431239\n",
      "2    0.351527\n",
      "1    0.217235\n",
      "Name: proportion, dtype: float64\n"
     ]
    },
    {
     "data": {
      "image/png": "[encoded data removed]",
      "text/plain": [
       "<Figure size 640x480 with 1 Axes>"
      ]
     },
     "metadata": {},
     "output_type": "display_data"
    },
    {
     "data": {
      "image/png": "[encoded data removed]",
      "text/plain": [
       "<Figure size 640x480 with 1 Axes>"
      ]
     },
     "metadata": {},
     "output_type": "display_data"
    }
   ],
   "source": [
    "# Cheking class distribution  in training and validations\n",
    "print(\"Training set class distribution:\\n\",y_train.value_counts(normalize=True))\n",
    "print(\"Validation set class distribution:\\n\",y_val.value_counts(normalize=True))\n",
    "\n",
    "# visualization\n",
    "sns.countplot(x=y_train)\n",
    "plt.title(\"Class Distribution in Training Set\")\n",
    "plt.show()\n",
    "\n",
    "sns.countplot(x=y_val)\n",
    "plt.title(\"Class Distribution in Validation Set\")\n",
    "plt.show()\n"
   ]
  },
  {
   "cell_type": "code",
   "execution_count": 7,
   "id": "00e96d00",
   "metadata": {},
   "outputs": [
    {
     "name": "stdout",
     "output_type": "stream",
     "text": [
      "\n",
      "Training LogisticRegression...\n",
      "LogisticRegressionClassification Report:\n",
      "               precision    recall  f1-score   support\n",
      "\n",
      "     Class 0       0.51      0.49      0.50    582172\n",
      "     Class 1       0.25      0.13      0.17    293267\n",
      "     Class 2       0.45      0.59      0.51    474561\n",
      "\n",
      "    accuracy                           0.45   1350000\n",
      "   macro avg       0.40      0.41      0.39   1350000\n",
      "weighted avg       0.43      0.45      0.43   1350000\n",
      "\n",
      "LogisticRegression Macro F1 Score=0.3936\n",
      "\n",
      "Training DecisionTreeClassifier...\n",
      "DecisionTreeClassifierClassification Report:\n",
      "               precision    recall  f1-score   support\n",
      "\n",
      "     Class 0       0.99      0.99      0.99    582172\n",
      "     Class 1       0.98      0.98      0.98    293267\n",
      "     Class 2       0.99      0.99      0.99    474561\n",
      "\n",
      "    accuracy                           0.99   1350000\n",
      "   macro avg       0.99      0.99      0.99   1350000\n",
      "weighted avg       0.99      0.99      0.99   1350000\n",
      "\n",
      "DecisionTreeClassifier Macro F1 Score=0.9875\n"
     ]
    }
   ],
   "source": [
    "# baseline model\n",
    "baseline_model={\n",
    "    'LogisticRegression':LogisticRegression(class_weight='balanced',random_state=42),\n",
    "    'DecisionTreeClassifier':DecisionTreeClassifier(class_weight='balanced',random_state=42)\n",
    "}\n",
    "\n",
    "\n",
    "# training and evaluvation on validation set\n",
    "\n",
    "for name,model in baseline_model.items():\n",
    "    print(f\"\\nTraining {name}...\")\n",
    "    model.fit(X_train,y_train)\n",
    "    y_pred=model.predict(X_val)\n",
    "    print(f\"{name}Classification Report:\\n\",classification_report(y_val,y_pred,target_names=['Class 0','Class 1','Class 2']))\n",
    "    macro_f1=f1_score(y_val,y_pred,average='macro')\n",
    "    print(f\"{name} Macro F1 Score={macro_f1:.4f}\")"
   ]
  },
  {
   "cell_type": "code",
   "execution_count": 9,
   "id": "255d0eeb",
   "metadata": {},
   "outputs": [],
   "source": [
    "# Define advanced models\n",
    "advanced_model = {\n",
    "    'Random Forest': RandomForestClassifier(n_estimators=50, max_depth=10, class_weight='balanced', random_state=42),\n",
    "    'Gradient Boosting': GradientBoostingClassifier(n_estimators=50, max_depth=5, random_state=42)\n",
    "}\n",
    "\n",
    "# XGBoost with GPU\n",
    "try:\n",
    "    advanced_model['XGBoost'] = XGBClassifier(\n",
    "        n_estimators=50,\n",
    "        max_depth=5,\n",
    "        scale_pos_weight=1,\n",
    "        random_state=42,\n",
    "        tree_method='hist',\n",
    "        device='cuda'\n",
    "    )\n",
    "except Exception as e:\n",
    "    print(\"XGBoost failed:\", e)\n",
    "\n",
    "# LightGBM with GPU\n",
    "try:\n",
    "    advanced_model['LightGBM'] = LGBMClassifier(\n",
    "        n_estimators=100,\n",
    "        max_depth=10,\n",
    "        is_unbalance=True,\n",
    "        random_state=42,\n",
    "        device='gpu'\n",
    "    )\n",
    "except Exception as e:\n",
    "    print(\"LightGBM failed:\", e)\n"
   ]
  },
  {
   "cell_type": "code",
   "execution_count": 10,
   "id": "b75580fa",
   "metadata": {},
   "outputs": [
    {
     "name": "stdout",
     "output_type": "stream",
     "text": [
      "\n",
      " Training Random Forest...\n",
      " Random Forest training complete in 9.09 minutes.\n",
      "\n",
      "Random Forest Classification Report:\n",
      "              precision    recall  f1-score   support\n",
      "\n",
      "     Class 0       0.75      0.94      0.83    582172\n",
      "     Class 1       0.81      0.72      0.76    293267\n",
      "     Class 2       0.97      0.73      0.83    474561\n",
      "\n",
      "    accuracy                           0.82   1350000\n",
      "   macro avg       0.84      0.80      0.81   1350000\n",
      "weighted avg       0.84      0.82      0.82   1350000\n",
      "\n",
      "Random Forest Macro F1 Score: 0.8089\n",
      "\n",
      " Training Gradient Boosting...\n",
      " Gradient Boosting training complete in 103.74 minutes.\n",
      "\n",
      "Gradient Boosting Classification Report:\n",
      "              precision    recall  f1-score   support\n",
      "\n",
      "     Class 0       0.76      0.96      0.85    582172\n",
      "     Class 1       0.91      0.65      0.76    293267\n",
      "     Class 2       0.94      0.80      0.86    474561\n",
      "\n",
      "    accuracy                           0.84   1350000\n",
      "   macro avg       0.87      0.80      0.82   1350000\n",
      "weighted avg       0.85      0.84      0.83   1350000\n",
      "\n",
      "Gradient Boosting Macro F1 Score: 0.8237\n",
      "\n",
      " Training XGBoost...\n"
     ]
    },
    {
     "name": "stderr",
     "output_type": "stream",
     "text": [
      "d:\\Datascience\\Project\\Cybersecurity_classifier\\Microsoft_cybersecurity_classifier\\cybersecurity\\Lib\\site-packages\\xgboost\\training.py:183: UserWarning: [12:05:48] WARNING: C:\\actions-runner\\_work\\xgboost\\xgboost\\src\\learner.cc:738: \n",
      "Parameters: { \"scale_pos_weight\" } are not used.\n",
      "\n",
      "  bst.update(dtrain, iteration=i, fobj=obj)\n"
     ]
    },
    {
     "name": "stdout",
     "output_type": "stream",
     "text": [
      " XGBoost training complete in 0.44 minutes.\n"
     ]
    },
    {
     "name": "stderr",
     "output_type": "stream",
     "text": [
      "d:\\Datascience\\Project\\Cybersecurity_classifier\\Microsoft_cybersecurity_classifier\\cybersecurity\\Lib\\site-packages\\xgboost\\core.py:729: UserWarning: [12:06:09] WARNING: C:\\actions-runner\\_work\\xgboost\\xgboost\\src\\common\\error_msg.cc:58: Falling back to prediction using DMatrix due to mismatched devices. This might lead to higher memory usage and slower performance. XGBoost is running on: cuda:0, while the input data is on: cpu.\n",
      "Potential solutions:\n",
      "- Use a data structure that matches the device ordinal in the booster.\n",
      "- Set the device for booster before call to inplace_predict.\n",
      "\n",
      "This warning will only be shown once.\n",
      "\n",
      "  return func(**kwargs)\n"
     ]
    },
    {
     "name": "stdout",
     "output_type": "stream",
     "text": [
      "\n",
      "XGBoost Classification Report:\n",
      "              precision    recall  f1-score   support\n",
      "\n",
      "     Class 0       0.81      0.95      0.88    582172\n",
      "     Class 1       0.91      0.73      0.81    293267\n",
      "     Class 2       0.94      0.85      0.89    474561\n",
      "\n",
      "    accuracy                           0.87   1350000\n",
      "   macro avg       0.89      0.84      0.86   1350000\n",
      "weighted avg       0.88      0.87      0.87   1350000\n",
      "\n",
      "XGBoost Macro F1 Score: 0.8591\n",
      "\n",
      " Training LightGBM...\n",
      "[LightGBM] [Info] This is the GPU trainer!!\n",
      "[LightGBM] [Info] Total Bins 3886\n",
      "[LightGBM] [Info] Number of data points in the train set: 3150000, number of used features: 26\n",
      "[LightGBM] [Info] Using GPU Device: NVIDIA GeForce MX330, Vendor: NVIDIA Corporation\n",
      "[LightGBM] [Info] Compiling OpenCL Kernel with 256 bins...\n",
      "[LightGBM] [Info] GPU programs have been built\n",
      "[LightGBM] [Info] Size of histogram bin entry: 8\n",
      "[LightGBM] [Info] 12 dense feature groups (36.05 MB) transferred to GPU in 0.106890 secs. 1 sparse feature groups\n",
      "[LightGBM] [Info] Start training from score -0.841095\n",
      "[LightGBM] [Info] Start training from score -1.526776\n",
      "[LightGBM] [Info] Start training from score -1.045469\n",
      " LightGBM training complete in 0.98 minutes.\n",
      "\n",
      "LightGBM Classification Report:\n",
      "              precision    recall  f1-score   support\n",
      "\n",
      "     Class 0       0.85      0.96      0.90    582172\n",
      "     Class 1       0.94      0.80      0.86    293267\n",
      "     Class 2       0.94      0.88      0.91    474561\n",
      "\n",
      "    accuracy                           0.90   1350000\n",
      "   macro avg       0.91      0.88      0.89   1350000\n",
      "weighted avg       0.90      0.90      0.90   1350000\n",
      "\n",
      "LightGBM Macro F1 Score: 0.8920\n"
     ]
    }
   ],
   "source": [
    "import time\n",
    "for name, model in advanced_model.items():\n",
    "    print(f\"\\n Training {name}...\")\n",
    "    start = time.time()\n",
    "    model.fit(X_train, y_train)\n",
    "    end = time.time()\n",
    "    print(f\" {name} training complete in {(end - start)/60:.2f} minutes.\")\n",
    "\n",
    "    y_pred = model.predict(X_val)\n",
    "    print(f\"\\n{name} Classification Report:\")\n",
    "    print(classification_report(y_val, y_pred, target_names=['Class 0', 'Class 1', 'Class 2']))\n",
    "\n",
    "    macro_f1 = f1_score(y_val, y_pred, average='macro')\n",
    "    print(f\"{name} Macro F1 Score: {macro_f1:.4f}\")\n"
   ]
  },
  {
   "cell_type": "code",
   "execution_count": 11,
   "id": "c40e2f95",
   "metadata": {},
   "outputs": [
    {
     "name": "stdout",
     "output_type": "stream",
     "text": [
      "                   macro_f1  precision    recall\n",
      "LightGBM           0.892002   0.910401  0.880130\n",
      "XGBoost            0.859092   0.886084  0.844129\n",
      "Gradient Boosting  0.823726   0.868581  0.804062\n",
      "Random Forest      0.808903   0.841410  0.796492\n"
     ]
    }
   ],
   "source": [
    "from sklearn.metrics import precision_score, recall_score\n",
    "\n",
    "model_scores = {}\n",
    "\n",
    "for name, model in advanced_model.items():\n",
    "    y_pred = model.predict(X_val)\n",
    "    model_scores[name] = {\n",
    "        'macro_f1': f1_score(y_val, y_pred, average='macro'),\n",
    "        'precision': precision_score(y_val, y_pred, average='macro'),\n",
    "        'recall': recall_score(y_val, y_pred, average='macro')\n",
    "    }\n",
    "\n",
    "print(pd.DataFrame(model_scores).T.sort_values(by='macro_f1', ascending=False))\n"
   ]
  },
  {
   "cell_type": "code",
   "execution_count": 12,
   "id": "f1b9378a",
   "metadata": {},
   "outputs": [
    {
     "name": "stdout",
     "output_type": "stream",
     "text": [
      "Fitting 3 folds for each of 16 candidates, totalling 48 fits\n",
      "[LightGBM] [Info] This is the GPU trainer!!\n",
      "[LightGBM] [Info] Total Bins 3886\n",
      "[LightGBM] [Info] Number of data points in the train set: 3150000, number of used features: 26\n",
      "[LightGBM] [Info] Using GPU Device: NVIDIA GeForce MX330, Vendor: NVIDIA Corporation\n",
      "[LightGBM] [Info] Compiling OpenCL Kernel with 256 bins...\n",
      "[LightGBM] [Info] GPU programs have been built\n",
      "[LightGBM] [Info] Size of histogram bin entry: 8\n",
      "[LightGBM] [Info] 12 dense feature groups (36.05 MB) transferred to GPU in 0.090935 secs. 1 sparse feature groups\n",
      "[LightGBM] [Info] Start training from score -0.841095\n",
      "[LightGBM] [Info] Start training from score -1.526776\n",
      "[LightGBM] [Info] Start training from score -1.045469\n",
      "Best Parameters: {'learning_rate': 0.1, 'max_depth': 20, 'n_estimators': 200, 'num_leaves': 64}\n",
      "Best Macro F1 Score: 0.9417819123018621\n"
     ]
    }
   ],
   "source": [
    "from sklearn.model_selection import GridSearchCV\n",
    "\n",
    "param_grid = {\n",
    "    'n_estimators': [100, 200],\n",
    "    'max_depth': [10, 20],\n",
    "    'learning_rate': [0.1, 0.05],\n",
    "    'num_leaves': [31, 64]\n",
    "}\n",
    "\n",
    "lgbm = LGBMClassifier(device='gpu', random_state=42, is_unbalance=True)\n",
    "\n",
    "grid = GridSearchCV(lgbm, param_grid, cv=3, scoring='f1_macro', verbose=2, n_jobs=-1)\n",
    "grid.fit(X_train, y_train)\n",
    "\n",
    "print(\"Best Parameters:\", grid.best_params_)\n",
    "print(\"Best Macro F1 Score:\", grid.best_score_)\n",
    "best_model = grid.best_estimator_\n"
   ]
  },
  {
   "cell_type": "code",
   "execution_count": 14,
   "id": "a6727411",
   "metadata": {},
   "outputs": [
    {
     "data": {
      "text/plain": [
       "{'learning_rate': 0.1,\n",
       " 'max_depth': 20,\n",
       " 'n_estimators': 200,\n",
       " 'num_leaves': 64,\n",
       " 'Best Macro F1 Score': 0.94}"
      ]
     },
     "execution_count": 14,
     "metadata": {},
     "output_type": "execute_result"
    }
   ],
   "source": [
    "{\n",
    "    'learning_rate': 0.1,\n",
    "    'max_depth': 20,\n",
    "    'n_estimators': 200,\n",
    "    'num_leaves': 64,\n",
    "    'Best Macro F1 Score': 0.94\n",
    "}\n"
   ]
  },
  {
   "cell_type": "code",
   "execution_count": null,
   "id": "5e7c7e0c",
   "metadata": {},
   "outputs": [
    {
     "data": {
      "image/png": "[encoded data removed]",
      "text/plain": [
       "<Figure size 800x950 with 1 Axes>"
      ]
     },
     "metadata": {},
     "output_type": "display_data"
    }
   ],
   "source": [
    "# feature important using shap \n",
    "import shap\n",
    "\n",
    "# Use a smaller sample for SHAP due to memory\n",
    "X_val_sample = X_val.sample(1000, random_state=42)\n",
    "\n",
    "# Fit SHAP explainer\n",
    "explainer = shap.TreeExplainer(best_model)\n",
    "shap_values = explainer.shap_values(X_val_sample)\n",
    "\n",
    "# Summary bar plot\n",
    "shap.summary_plot(shap_values, X_val_sample, plot_type=\"bar\")\n"
   ]
  },
  {
   "cell_type": "code",
   "execution_count": null,
   "id": "35db7b9f",
   "metadata": {},
   "outputs": [
    {
     "data": {
      "image/png": "[encoded data removed]",
      "text/plain": [
       "<Figure size 600x500 with 2 Axes>"
      ]
     },
     "metadata": {},
     "output_type": "display_data"
    }
   ],
   "source": [
    "# error analysis \n",
    "from sklearn.metrics import confusion_matrix\n",
    "\n",
    "\n",
    "y_val_pred = best_model.predict(X_val)\n",
    "conf_mat = confusion_matrix(y_val, y_val_pred)\n",
    "\n",
    "plt.figure(figsize=(6,5))\n",
    "sns.heatmap(conf_mat, annot=True, fmt='d', cmap='YlGnBu', xticklabels=['TP', 'BP', 'FP'], yticklabels=['TP', 'BP', 'FP'])\n",
    "plt.title(\"Confusion Matrix - Tuned LightGBM\")\n",
    "plt.xlabel(\"Predicted\")\n",
    "plt.ylabel(\"Actual\")\n",
    "plt.show()\n"
   ]
  },
  {
   "cell_type": "code",
   "execution_count": 18,
   "id": "797e3426",
   "metadata": {},
   "outputs": [
    {
     "name": "stdout",
     "output_type": "stream",
     "text": [
      "Test Set Classification Report:\n",
      "              precision    recall  f1-score   support\n",
      "\n",
      "           0       0.91      0.93      0.92   1752940\n",
      "           1       0.89      0.84      0.86    902698\n",
      "           2       0.92      0.93      0.93   1492354\n",
      "\n",
      "    accuracy                           0.91   4147992\n",
      "   macro avg       0.91      0.90      0.90   4147992\n",
      "weighted avg       0.91      0.91      0.91   4147992\n",
      "\n",
      "Test Set Macro F1 Score: 0.9021489723365592\n"
     ]
    }
   ],
   "source": [
    "# Load processed test set\n",
    "test_df = pd.read_csv(\"testdata_processed.csv\")\n",
    "X_test = test_df.drop(\"IncidentGrade\", axis=1)\n",
    "y_test = test_df[\"IncidentGrade\"]\n",
    "\n",
    "# Predict and evaluate\n",
    "y_test_pred = best_model.predict(X_test)\n",
    "\n",
    "from sklearn.metrics import classification_report, f1_score\n",
    "\n",
    "print(\"Test Set Classification Report:\")\n",
    "print(classification_report(y_test, y_test_pred))\n",
    "\n",
    "print(\"Test Set Macro F1 Score:\", f1_score(y_test, y_test_pred, average='macro'))\n"
   ]
  },
  {
   "cell_type": "code",
   "execution_count": 20,
   "id": "cc0451cf",
   "metadata": {},
   "outputs": [
    {
     "name": "stdout",
     "output_type": "stream",
     "text": [
      "              Model  Macro F1 Score  Accuracy                        Comments\n",
      "Logistic Regression          0.3936      0.45 Very low performance, underfits\n",
      "      Decision Tree          0.9875      0.99   Too perfect — likely overfits\n",
      "      Random Forest          0.8089      0.82     Good, but weaker on Class 2\n",
      "  Gradient Boosting          0.8237      0.84        Better than RF, but slow\n",
      "            XGBoost          0.8591      0.87             Strong and balanced\n",
      "           LightGBM          0.8920      0.90               Fast and accurate\n",
      "   LightGBM (Tuned)          0.9418      0.91              Best overall model\n"
     ]
    }
   ],
   "source": [
    "\n",
    "# Define model performance data\n",
    "data = {\n",
    "    'Model': [\n",
    "        'Logistic Regression',\n",
    "        'Decision Tree',\n",
    "        'Random Forest',\n",
    "        'Gradient Boosting',\n",
    "        'XGBoost',\n",
    "        'LightGBM',\n",
    "        'LightGBM (Tuned)'\n",
    "    ],\n",
    "    'Macro F1 Score': [\n",
    "        0.3936,\n",
    "        0.9875,\n",
    "        0.8089,\n",
    "        0.8237,\n",
    "        0.8591,\n",
    "        0.8920,\n",
    "        0.9418\n",
    "    ],\n",
    "    'Accuracy': [\n",
    "        0.45,\n",
    "        0.99,\n",
    "        0.82,\n",
    "        0.84,\n",
    "        0.87,\n",
    "        0.90,\n",
    "        0.91  # or use your test score here\n",
    "    ],\n",
    "    'Comments': [\n",
    "        'Very low performance, underfits',\n",
    "        'Too perfect — likely overfits',\n",
    "        'Good, but weaker on Class 2',\n",
    "        'Better than RF, but slow',\n",
    "        'Strong and balanced',\n",
    "        'Fast and accurate',\n",
    "        'Best overall model'\n",
    "    ]\n",
    "}\n",
    "\n",
    "# Create DataFrame\n",
    "model_comparison_df = pd.DataFrame(data)\n",
    "\n",
    "# Display table\n",
    "print(model_comparison_df.to_string(index=False))\n"
   ]
  },
  {
   "cell_type": "code",
   "execution_count": 19,
   "id": "fbc6c52f",
   "metadata": {},
   "outputs": [
    {
     "data": {
      "text/plain": [
       "['best_lightgbm_model.pkl']"
      ]
     },
     "execution_count": 19,
     "metadata": {},
     "output_type": "execute_result"
    }
   ],
   "source": [
    "import joblib\n",
    "joblib.dump(best_model, \"best_lightgbm_model.pkl\")\n"
   ]
  },
  {
   "cell_type": "code",
   "execution_count": null,
   "id": "8514f66e",
   "metadata": {},
   "outputs": [],
   "source": []
  },
  {
   "cell_type": "code",
   "execution_count": null,
   "id": "dbbb8aff",
   "metadata": {},
   "outputs": [],
   "source": []
  },
  {
   "cell_type": "code",
   "execution_count": null,
   "id": "13600634",
   "metadata": {},
   "outputs": [],
   "source": []
  },
  {
   "cell_type": "code",
   "execution_count": null,
   "id": "bfc75143",
   "metadata": {},
   "outputs": [],
   "source": []
  },
  {
   "cell_type": "code",
   "execution_count": null,
   "id": "853379b2",
   "metadata": {},
   "outputs": [],
   "source": []
  },
  {
   "cell_type": "code",
   "execution_count": null,
   "id": "7016e45b",
   "metadata": {},
   "outputs": [],
   "source": []
  }
 ],
 "metadata": {
  "kernelspec": {
   "display_name": "cybersecurity",
   "language": "python",
   "name": "python3"
  },
  "language_info": {
   "codemirror_mode": {
    "name": "ipython",
    "version": 3
   },
   "file_extension": ".py",
   "mimetype": "text/x-python",
   "name": "python",
   "nbconvert_exporter": "python",
   "pygments_lexer": "ipython3",
   "version": "3.12.4"
  }
 },
 "nbformat": 4,
 "nbformat_minor": 5
}
